{
  "nbformat": 4,
  "nbformat_minor": 0,
  "metadata": {
    "colab": {
      "provenance": [],
      "authorship_tag": "ABX9TyOe63if8SDxK+BW356YS6L8",
      "include_colab_link": true
    },
    "kernelspec": {
      "name": "python3",
      "display_name": "Python 3"
    },
    "language_info": {
      "name": "python"
    }
  },
  "cells": [
    {
      "cell_type": "markdown",
      "metadata": {
        "id": "view-in-github",
        "colab_type": "text"
      },
      "source": [
        "<a href=\"https://colab.research.google.com/github/FlorentinoBryan/CPEN-21A-PLD-1-1/blob/main/Lab_activity_1.ipynb\" target=\"_parent\"><img src=\"https://colab.research.google.com/assets/colab-badge.svg\" alt=\"Open In Colab\"/></a>"
      ]
    },
    {
      "cell_type": "markdown",
      "source": [
        "Problem 1"
      ],
      "metadata": {
        "id": "bsPTiakmNexv"
      }
    },
    {
      "cell_type": "code",
      "source": [
        "n=20\n",
        "total_numbers=n\n",
        "sum=0\n",
        "average=0\n",
        "\n",
        "while n>=0:\n",
        "  sum+=n\n",
        "  n-=1\n",
        "  print(\"sum =\",sum)\n",
        "\n",
        "  average=sum/total_numbers\n",
        "  print(\"Average =\",average)"
      ],
      "metadata": {
        "colab": {
          "base_uri": "https://localhost:8080/"
        },
        "id": "hesWvcbwLfC0",
        "outputId": "4b53cd07-802e-4160-b1a7-8dd57e96de83"
      },
      "execution_count": 12,
      "outputs": [
        {
          "output_type": "stream",
          "name": "stdout",
          "text": [
            "sum = 20\n",
            "Average = 1.0\n",
            "sum = 39\n",
            "Average = 1.95\n",
            "sum = 57\n",
            "Average = 2.85\n",
            "sum = 74\n",
            "Average = 3.7\n",
            "sum = 90\n",
            "Average = 4.5\n",
            "sum = 105\n",
            "Average = 5.25\n",
            "sum = 119\n",
            "Average = 5.95\n",
            "sum = 132\n",
            "Average = 6.6\n",
            "sum = 144\n",
            "Average = 7.2\n",
            "sum = 155\n",
            "Average = 7.75\n",
            "sum = 165\n",
            "Average = 8.25\n",
            "sum = 174\n",
            "Average = 8.7\n",
            "sum = 182\n",
            "Average = 9.1\n",
            "sum = 189\n",
            "Average = 9.45\n",
            "sum = 195\n",
            "Average = 9.75\n",
            "sum = 200\n",
            "Average = 10.0\n",
            "sum = 204\n",
            "Average = 10.2\n",
            "sum = 207\n",
            "Average = 10.35\n",
            "sum = 209\n",
            "Average = 10.45\n",
            "sum = 210\n",
            "Average = 10.5\n",
            "sum = 210\n",
            "Average = 10.5\n"
          ]
        }
      ]
    },
    {
      "cell_type": "markdown",
      "source": [
        "Problem 2"
      ],
      "metadata": {
        "id": "zCFmxsFdOKV-"
      }
    },
    {
      "cell_type": "code",
      "source": [
        "\n",
        "class Student:\n",
        "  def _init_(self,name,student_no,age,school,course):\n",
        "    self.name=name\n",
        "    self.student_no=student_no\n",
        "    self.age=age\n",
        "    self.school=school\n",
        "    self.course=course\n",
        "\n",
        "    def Info(self):\n",
        "      return self.name + self.student_no + self.age + self.school + self.course\n",
        "\n",
        "    Myself=Student(\"Bryan Florentino, \", \"202202595, \", \"19 years old, \", \"Cavite state University, \", \"BSCpE\")\n",
        "    print(\"Student info:\", Myself.info())\n"
      ],
      "metadata": {
        "id": "4zpBHGMfOLmI"
      },
      "execution_count": 22,
      "outputs": []
    }
  ]
}