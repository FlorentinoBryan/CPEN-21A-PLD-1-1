{
  "nbformat": 4,
  "nbformat_minor": 0,
  "metadata": {
    "colab": {
      "provenance": [],
      "authorship_tag": "ABX9TyPOEac/H91GQ5HRpe0E2IiF",
      "include_colab_link": true
    },
    "kernelspec": {
      "name": "python3",
      "display_name": "Python 3"
    },
    "language_info": {
      "name": "python"
    }
  },
  "cells": [
    {
      "cell_type": "markdown",
      "metadata": {
        "id": "view-in-github",
        "colab_type": "text"
      },
      "source": [
        "<a href=\"https://colab.research.google.com/github/FlorentinoBryan/CPEN-21A-PLD-1-1/blob/main/Activity_Examples.ipynb\" target=\"_parent\"><img src=\"https://colab.research.google.com/assets/colab-badge.svg\" alt=\"Open In Colab\"/></a>"
      ]
    },
    {
      "cell_type": "markdown",
      "source": [
        "Example 1"
      ],
      "metadata": {
        "id": "sOEdkSRABuQb"
      }
    },
    {
      "cell_type": "code",
      "source": [
        "print(\"Enter your age\")\n",
        "x = int(input())\n",
        "if x>=18:\n",
        "  print(\"you are qualified to vote\")\n",
        "if x<=18:\n",
        "  print(\"you are not qualified to vote\")"
      ],
      "metadata": {
        "colab": {
          "base_uri": "https://localhost:8080/"
        },
        "id": "QhfrfeIsBweN",
        "outputId": "2a9e5fd7-eab3-4b42-dbb8-0761d32b27cc"
      },
      "execution_count": 3,
      "outputs": [
        {
          "output_type": "stream",
          "name": "stdout",
          "text": [
            "Enter your age\n",
            "15\n",
            "you are not qualified to vote\n"
          ]
        }
      ]
    },
    {
      "cell_type": "markdown",
      "source": [
        "Example 2"
      ],
      "metadata": {
        "id": "PrT7zL51CjV_"
      }
    },
    {
      "cell_type": "code",
      "source": [
        "print(\"enter a number\")\n",
        "x = int(input())\n",
        "if x>0:\n",
        "  print(x, \"is a positive number\")\n",
        "elif x<0:\n",
        " print(x, \"is a negative number\")\n",
        "else:\n",
        "  print(x, \"is zero\")"
      ],
      "metadata": {
        "colab": {
          "base_uri": "https://localhost:8080/"
        },
        "id": "zixquG7jFIjI",
        "outputId": "72b10af0-a2ae-4c92-a1a7-b44a0222352a"
      },
      "execution_count": 19,
      "outputs": [
        {
          "output_type": "stream",
          "name": "stdout",
          "text": [
            "enter a number\n",
            "-9\n",
            "-9 is a negative number\n"
          ]
        }
      ]
    },
    {
      "cell_type": "markdown",
      "source": [
        "example 3"
      ],
      "metadata": {
        "id": "TmlHLn2XF__k"
      }
    },
    {
      "cell_type": "code",
      "source": [
        "print(\"enter your grade\")\n",
        "x = int(input())\n",
        "if x>=75:\n",
        " print(\"passed\")\n",
        "elif x==74:\n",
        " print(\"take remedial class\")\n",
        "elif x<=74:\n",
        " print(\"Failed\")"
      ],
      "metadata": {
        "colab": {
          "base_uri": "https://localhost:8080/"
        },
        "id": "MKY9uzBgGBlw",
        "outputId": "894b0ebb-a71a-49e4-ccd3-41a4118bf3ad"
      },
      "execution_count": 27,
      "outputs": [
        {
          "output_type": "stream",
          "name": "stdout",
          "text": [
            "enter your grade\n",
            "73\n",
            "Failed\n"
          ]
        }
      ]
    }
  ]
}