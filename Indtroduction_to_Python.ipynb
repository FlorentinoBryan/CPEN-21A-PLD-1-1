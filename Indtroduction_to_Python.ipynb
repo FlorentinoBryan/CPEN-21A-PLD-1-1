{
  "nbformat": 4,
  "nbformat_minor": 0,
  "metadata": {
    "colab": {
      "provenance": [],
      "authorship_tag": "ABX9TyN+mJM585ilu+lgs1bF0osg",
      "include_colab_link": true
    },
    "kernelspec": {
      "name": "python3",
      "display_name": "Python 3"
    },
    "language_info": {
      "name": "python"
    }
  },
  "cells": [
    {
      "cell_type": "markdown",
      "metadata": {
        "id": "view-in-github",
        "colab_type": "text"
      },
      "source": [
        "<a href=\"https://colab.research.google.com/github/FlorentinoBryan/CPEN-21A-PLD-1-1/blob/main/Indtroduction_to_Python.ipynb\" target=\"_parent\"><img src=\"https://colab.research.google.com/assets/colab-badge.svg\" alt=\"Open In Colab\"/></a>"
      ]
    },
    {
      "cell_type": "markdown",
      "source": [
        "#Indentation"
      ],
      "metadata": {
        "id": "cIrA7boYHR9g"
      }
    },
    {
      "cell_type": "code",
      "source": [
        "if 6>3:\n",
        "  print(\"6 is greater than 3\")"
      ],
      "metadata": {
        "colab": {
          "base_uri": "https://localhost:8080/"
        },
        "id": "pL8a4IjEIV7D",
        "outputId": "c1218914-1b1c-415b-ce1a-9c0f9ab749f4"
      },
      "execution_count": 7,
      "outputs": [
        {
          "output_type": "stream",
          "name": "stdout",
          "text": [
            "6 is greater than 3\n"
          ]
        }
      ]
    },
    {
      "cell_type": "markdown",
      "source": [
        "Variable Declaration"
      ],
      "metadata": {
        "id": "vYkIzHAVJLVP"
      }
    },
    {
      "cell_type": "code",
      "source": [
        "#Variable with a single value\n",
        "\n",
        "z=6\n",
        "b=3\n",
        "if z >b:\n",
        "  print(\"z is greater than b\")\n",
        "else:\n",
        "    print(\"b is greater than z\")\n",
        "\n",
        "\n",
        "\n",
        "\n",
        "\n",
        "#variable with multiple values\n",
        "\n",
        "j,s = 3,7\n",
        "print(\"the value of j is:\",j)\n",
        "print(\"the value of s is:\",s)\n",
        "\n",
        "#multiple variables with a single value\n",
        "\n",
        "b = z = s = 'ethan'\n",
        "print(b)\n",
        "print(z)\n",
        "print(s)"
      ],
      "metadata": {
        "colab": {
          "base_uri": "https://localhost:8080/"
        },
        "id": "5CjWQlQEJoMm",
        "outputId": "98ed0a58-6222-4c08-a0f7-7949f64fa848"
      },
      "execution_count": 17,
      "outputs": [
        {
          "output_type": "stream",
          "name": "stdout",
          "text": [
            "z is greater than b\n",
            "the value of j is: 3\n",
            "the value of s is: 7\n",
            "ethan\n",
            "ethan\n",
            "ethan\n"
          ]
        }
      ]
    },
    {
      "cell_type": "markdown",
      "source": [
        "Output Variable"
      ],
      "metadata": {
        "id": "h5ORKzr2QY3z"
      }
    },
    {
      "cell_type": "code",
      "source": [
        "h = 'in love with you'\n",
        "print(\"is crazy\"+\" \"+ h)\n",
        "\n",
        "o = \"izzo\"\n",
        "v = o=h\n",
        "print(v)"
      ],
      "metadata": {
        "colab": {
          "base_uri": "https://localhost:8080/"
        },
        "id": "7l7nLqElQhfT",
        "outputId": "57f6ff38-b0ac-4eab-9578-cf46dae219e9"
      },
      "execution_count": 21,
      "outputs": [
        {
          "output_type": "stream",
          "name": "stdout",
          "text": [
            "is crazy in love with you\n",
            "in love with you\n"
          ]
        }
      ]
    },
    {
      "cell_type": "markdown",
      "source": [
        "Casting and Type() function"
      ],
      "metadata": {
        "id": "gKfQLcfzMGRv"
      }
    },
    {
      "cell_type": "code",
      "source": [
        "f = int(9)  \n",
        "u=float(9)  \n",
        "\n",
        "print(f)\n",
        "print(u)\n",
        "\n",
        "print(type(f))\n",
        "print(type(u))\n"
      ],
      "metadata": {
        "colab": {
          "base_uri": "https://localhost:8080/"
        },
        "id": "b-6ntgwVMT8_",
        "outputId": "56e930c6-c943-4538-b6df-8137fa4a9a6e"
      },
      "execution_count": 15,
      "outputs": [
        {
          "output_type": "stream",
          "name": "stdout",
          "text": [
            "9\n",
            "9.0\n",
            "<class 'int'>\n",
            "<class 'float'>\n"
          ]
        }
      ]
    },
    {
      "cell_type": "markdown",
      "source": [
        "Double qoute or single qoute"
      ],
      "metadata": {
        "id": "ZuGBQAe_Nvdp"
      }
    },
    {
      "cell_type": "code",
      "source": [
        "name = \"apolitetey\"\n",
        "name1 = 'judie ann'\n",
        "\n",
        "print(name)\n",
        "print(name1)"
      ],
      "metadata": {
        "colab": {
          "base_uri": "https://localhost:8080/"
        },
        "id": "Oiwj8Xu_N0dL",
        "outputId": "f811d4ff-7b1a-4840-b45c-bcfa9f20a63b"
      },
      "execution_count": 16,
      "outputs": [
        {
          "output_type": "stream",
          "name": "stdout",
          "text": [
            "apolitetey\n",
            "judie ann\n"
          ]
        }
      ]
    },
    {
      "cell_type": "markdown",
      "source": [
        "Case Sensitive"
      ],
      "metadata": {
        "id": "aXBOn_BrOfGw"
      }
    },
    {
      "cell_type": "code",
      "source": [
        "n = 'ella'\n",
        "print(n)"
      ],
      "metadata": {
        "id": "lk3tPfHOOvfg"
      },
      "execution_count": null,
      "outputs": []
    }
  ]
}